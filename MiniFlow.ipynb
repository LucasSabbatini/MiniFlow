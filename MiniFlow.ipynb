{
 "cells": [
  {
   "cell_type": "markdown",
   "metadata": {},
   "source": [
    "# MiniFlow\n",
    "\n",
    "In this lesson, I'll build a miniflow, a module that stores a simple neural network, implemented using numpy. The structure of this code was created by instructors from Udacity's Deep Learning Foundation, while some implementation as created by me as exercises for the Nanodegree.\n"
   ]
  },
  {
   "cell_type": "markdown",
   "metadata": {},
   "source": [
    "## MiniFlow Architecture\n",
    "\n",
    "A Python class we'll ve used to represent a generic node. Each node will receive input from multiple other nodes, and also creates a single output that will likely be passed to other nodes."
   ]
  },
  {
   "cell_type": "code",
   "execution_count": 1,
   "metadata": {
    "collapsed": true
   },
   "outputs": [],
   "source": [
    "class Node(object):\n",
    "    def __init__(self, inbound_nodes=[]):\n",
    "        # Node(s) from which this node receives values\n",
    "        self.inbound_nodes = inbound_nodes\n",
    "        \n",
    "        # Node(s) to which this node passes values\n",
    "        self.outbound_nodes = []\n",
    "        \n",
    "        # For each inbound nodes here, add this node as an inbound node to that node\n",
    "        for node in self.inbound_nodes:\n",
    "            node.outbound_nodes.append(self)\n",
    "            \n",
    "        # Initializing the value that will be passed to other nodes as None\n",
    "        self.value = None\n",
    "         \n",
    "    def forward(self):\n",
    "        \"\"\"\n",
    "        Forward propagation.\n",
    "        \n",
    "        Compute the output value based on inbound_nodes and\n",
    "        store the result in self.value. It doesn't actually perform the forward pass,\n",
    "        only calculate its value and stores it in self.value\n",
    "        \"\"\"\n",
    "        raise NotImplemented"
   ]
  },
  {
   "cell_type": "markdown",
   "metadata": {},
   "source": [
    "The class node only set the base set of properties every node holds, but only specialized subclasses of Node will end up in the graph."
   ]
  },
  {
   "cell_type": "code",
   "execution_count": 2,
   "metadata": {
    "collapsed": true
   },
   "outputs": [],
   "source": [
    "class Input(Node):\n",
    "    def __init__(self):\n",
    "        # Since the input is the first node in the graph, it has no inbound_nodes\n",
    "        # so, when initializing the Node class, there's no need to pass in any other nodes\n",
    "        Node.__init__(self)\n",
    "        \n",
    "    def forward(self, value=None):\n",
    "        \"\"\"\n",
    "        This is the only node where the value may be passe din as an argument for\n",
    "        forward method, since it does not have to perform and operation with values from inbound nodes\n",
    "        \"\"\"\n",
    "        # Remember that self.value was already initiated in Node.__init__(self)\n",
    "        # Overwrite the value if one is passed in\n",
    "        if value is not None:\n",
    "            self.value = value\n",
    "        "
   ]
  },
  {
   "cell_type": "markdown",
   "metadata": {},
   "source": [
    "## The Add Subclass\n",
    "\n",
    "The Add subclass actually performs a calculation, addition."
   ]
  },
  {
   "cell_type": "code",
   "execution_count": 20,
   "metadata": {
    "collapsed": true
   },
   "outputs": [],
   "source": [
    "class Add(Node):\n",
    "    \"\"\"\n",
    "    This class will take a list of nodes and add the values stored in them together\n",
    "    \"\"\"\n",
    "    def __init__(self, *):\n",
    "        \"\"\"\n",
    "        We'll initialize the Node (parent) init function with the arguments given \n",
    "        in to the Add class initialization. We'll pass them as a list, since the parent\n",
    "        node has a list as an argument for inbound_nodes\n",
    "        \"\"\"\n",
    "        Node.__init__(seld, list(inputs))\n",
    "        \n",
    "    def forward(self):\n",
    "        \"\"\"\n",
    "        This method will add the values stored in inbound_nodes\n",
    "        \"\"\"\n",
    "        summ = 0\n",
    "        for node in self.inbound_nodes:\n",
    "            summ += node.value\n",
    "        self.value = summ\n",
    "        "
   ]
  },
  {
   "cell_type": "markdown",
   "metadata": {},
   "source": [
    "Since the input of some node depends on the output of other, there are dependencies for the order of the operations. To arrange the nodes in a order such that the operations can be performed, we'll have to sort the nodes before applying the forward pass.\n",
    "The topological_sort() function implements topological sorting using Kahn's Algorithm. This function returns a sorted list of nodes in which all of the calculations can run in series."
   ]
  },
  {
   "cell_type": "code",
   "execution_count": 21,
   "metadata": {
    "collapsed": true
   },
   "outputs": [],
   "source": [
    "def forward_pass(output_node, sorted_nodes):\n",
    "    \"\"\"\n",
    "    Performs a forward pass through a list of sorted nodes.\n",
    "    \n",
    "    Arguments:\n",
    "    'output_node': The output of the graph (no outgoing edges).\n",
    "    'sorted_nodes': a topologically sorted list of nodes.\n",
    "    \n",
    "    Returns the output node's value\n",
    "    \"\"\"\n",
    "    for n in sorted_nodes:\n",
    "        n.forward()\n",
    "        \n",
    "    return output_node.value\n",
    "\n"
   ]
  },
  {
   "cell_type": "markdown",
   "metadata": {},
   "source": [
    "Below will be defined the topological_sort() function, which implements topological sorting using Kahn's Algorithm."
   ]
  },
  {
   "cell_type": "code",
   "execution_count": 22,
   "metadata": {
    "collapsed": true
   },
   "outputs": [],
   "source": [
    "def topological_sort(feed_dict):\n",
    "    \"\"\"\n",
    "    Sort generic nodes in topological order using Kahn's Algorithm.\n",
    "\n",
    "    `feed_dict`: A dictionary where the key is a `Input` node and the value is the respective value feed to that node.\n",
    "\n",
    "    Returns a list of sorted nodes.\n",
    "    \"\"\"\n",
    "\n",
    "    input_nodes = [n for n in feed_dict.keys()]\n",
    "\n",
    "    G = {}\n",
    "    nodes = [n for n in input_nodes]\n",
    "    while len(nodes) > 0:\n",
    "        n = nodes.pop(0)\n",
    "        if n not in G:\n",
    "            G[n] = {'in': set(), 'out': set()}\n",
    "        for m in n.outbound_nodes:\n",
    "            if m not in G:\n",
    "                G[m] = {'in': set(), 'out': set()}\n",
    "            G[n]['out'].add(m)\n",
    "            G[m]['in'].add(n)\n",
    "            nodes.append(m)\n",
    "\n",
    "    L = []\n",
    "    S = set(input_nodes)\n",
    "    while len(S) > 0:\n",
    "        n = S.pop()\n",
    "\n",
    "        if isinstance(n, Input):\n",
    "            n.value = feed_dict[n]\n",
    "\n",
    "        L.append(n)\n",
    "        for m in n.outbound_nodes:\n",
    "            G[n]['out'].remove(m)\n",
    "            G[m]['in'].remove(n)\n",
    "            # if no other incoming edges add to S\n",
    "            if len(G[m]['in']) == 0:\n",
    "                S.add(m)\n",
    "    return L"
   ]
  },
  {
   "cell_type": "markdown",
   "metadata": {},
   "source": [
    "## Forward Propagation\n",
    "\n",
    "We'll now use the structures created above to perform a forward pass in our network"
   ]
  },
  {
   "cell_type": "code",
   "execution_count": 25,
   "metadata": {},
   "outputs": [
    {
     "name": "stdout",
     "output_type": "stream",
     "text": [
      "4 + 5 + 10 = 19 (according to miniflow)\n"
     ]
    }
   ],
   "source": [
    "x, y, z = Input(), Input(), Input()\n",
    "\n",
    "f = Add(x, y, z)\n",
    "\n",
    "feed_dict = {x:4, y: 5, z:10}\n",
    "\n",
    "graph = topological_sort(feed_dict)\n",
    "output = forward_pass(f, graph)\n",
    "\n",
    "print(\"{} + {} + {} = {} (according to miniflow)\".format(x.value, y.value, z.value, output))"
   ]
  }
 ],
 "metadata": {
  "kernelspec": {
   "display_name": "Python 3",
   "language": "python",
   "name": "python3"
  },
  "language_info": {
   "codemirror_mode": {
    "name": "ipython",
    "version": 3
   },
   "file_extension": ".py",
   "mimetype": "text/x-python",
   "name": "python",
   "nbconvert_exporter": "python",
   "pygments_lexer": "ipython3",
   "version": "3.5.3"
  }
 },
 "nbformat": 4,
 "nbformat_minor": 2
}
